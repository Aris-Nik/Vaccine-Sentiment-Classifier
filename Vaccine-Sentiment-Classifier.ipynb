{
  "nbformat": 4,
  "nbformat_minor": 0,
  "metadata": {
    "colab": {
      "name": "ml1.ipynb",
      "provenance": [],
      "collapsed_sections": []
    },
    "kernelspec": {
      "name": "python3",
      "display_name": "Python 3"
    },
    "language_info": {
      "name": "python"
    }
  },
  "cells": [
    {
      "cell_type": "code",
      "metadata": {
        "id": "dzzgURmEAhQB",
        "colab": {
          "base_uri": "https://localhost:8080/"
        },
        "outputId": "fe8ceb20-dad0-4b38-9e84-b95c18624c58"
      },
      "source": [
        "import os\n",
        "import io\n",
        "import re\n",
        "import numpy as np\n",
        "import pandas as pd\n",
        "import nltk\n",
        "import matplotlib.pyplot as plt\n",
        "from nltk.stem.snowball import SnowballStemmer\n",
        "nltk.download('stopwords')\n",
        "nltk.download('wordnet')\n",
        "from sklearn.feature_extraction.text import TfidfVectorizer\n",
        "from sklearn.feature_extraction.text import CountVectorizer\n",
        "from sklearn.feature_extraction.text import HashingVectorizer\n",
        "from sklearn.model_selection import cross_val_score\n",
        "from sklearn.metrics import recall_score\n",
        "from sklearn.metrics import precision_score\n",
        "from sklearn.metrics import f1_score\n",
        "from sklearn.metrics import accuracy_score\n",
        "from sklearn.model_selection import learning_curve\n",
        "from sklearn.linear_model import LogisticRegression\n",
        "from nltk.stem.wordnet import WordNetLemmatizer\n",
        "from sklearn.model_selection import ShuffleSplit\n",
        "from nltk.corpus import stopwords\n",
        "from google.colab import drive"
      ],
      "execution_count": 1,
      "outputs": [
        {
          "output_type": "stream",
          "name": "stdout",
          "text": [
            "[nltk_data] Downloading package stopwords to /root/nltk_data...\n",
            "[nltk_data]   Unzipping corpora/stopwords.zip.\n",
            "[nltk_data] Downloading package wordnet to /root/nltk_data...\n",
            "[nltk_data]   Unzipping corpora/wordnet.zip.\n"
          ]
        }
      ]
    },
    {
      "cell_type": "markdown",
      "metadata": {
        "id": "Kk-YelTkQPbk"
      },
      "source": [
        "# **Declare the paths**"
      ]
    },
    {
      "cell_type": "code",
      "metadata": {
        "id": "1SrQesYDA1fT"
      },
      "source": [
        "path = \"/content/drive/MyDrive/ml1/vaccine_train_set.csv\"\n",
        "train = pd.read_csv(path)\n",
        "path = \"/content/drive/MyDrive/ml1/vaccine_validation_set.csv\"\n",
        "test = pd.read_csv(path)"
      ],
      "execution_count": 2,
      "outputs": []
    },
    {
      "cell_type": "markdown",
      "metadata": {
        "id": "QFrXeL1bDJ-h"
      },
      "source": [
        "Rename the first column from Unnamed: 0 to id to be more understandable"
      ]
    },
    {
      "cell_type": "code",
      "metadata": {
        "id": "igrKa5K6Hm-V"
      },
      "source": [
        "train = train.rename(columns={'Unnamed: 0': 'id'})\n",
        "test = test.rename(columns={'Unnamed: 0': 'id'})"
      ],
      "execution_count": 3,
      "outputs": []
    },
    {
      "cell_type": "markdown",
      "metadata": {
        "id": "B96pVqA0QVot"
      },
      "source": [
        "# Drop null values (if there are any)"
      ]
    },
    {
      "cell_type": "code",
      "metadata": {
        "colab": {
          "base_uri": "https://localhost:8080/"
        },
        "id": "XVjODTTeKkVW",
        "outputId": "4cc66381-ac56-4350-8a5e-6e678c920081"
      },
      "source": [
        "print(train.isnull().sum())\n",
        "print(test.isnull().sum())\n",
        "\n",
        "#both have no null values so we dont have to drop them"
      ],
      "execution_count": 4,
      "outputs": [
        {
          "output_type": "stream",
          "name": "stdout",
          "text": [
            "id       0\n",
            "tweet    0\n",
            "label    0\n",
            "dtype: int64\n",
            "id       0\n",
            "tweet    0\n",
            "label    0\n",
            "dtype: int64\n"
          ]
        }
      ]
    },
    {
      "cell_type": "markdown",
      "metadata": {
        "id": "2TM4GSoPC_O_"
      },
      "source": [
        "# **Pre-processing (cleaning the data)**\n"
      ]
    },
    {
      "cell_type": "markdown",
      "metadata": {
        "id": "aO3e92Wvevlz"
      },
      "source": [
        "First change all letters to lowercase,remove http links, replace - and _ with a space \" \" because a lot of people on the internet use it instead of a space,replace 's with is n't with not 're with  are and remove all special characters with form : \\x..(example \\xa0) and \\u.... (example \\u0111) and at last remove all special characters and digits"
      ]
    },
    {
      "cell_type": "code",
      "metadata": {
        "id": "cMDNiyIv_rW9"
      },
      "source": [
        "def cleaning(df):\n",
        "    df['tweet'] = df['tweet'].str.lower()\n",
        "    df['tweet'] = df['tweet'].str.replace('http\\S+|www.\\S+', '', case=False)     \n",
        "    df['tweet'] = df['tweet'].str.replace('\"','')                       \n",
        "    df['tweet'] = df['tweet'].str.replace(\"-\",' ')                              \n",
        "    df['tweet'] = df['tweet'].str.replace('.',' ')                  \n",
        "    df['tweet'] = df['tweet'].str.replace(\"_\",' ')                                 \n",
        "    df['tweet'] = df['tweet'].str.replace(\"'s\",' is')                         \n",
        "    df['tweet'] = df['tweet'].str.replace(\"n't\",' not')                            \n",
        "    df['tweet'] = df['tweet'].str.replace(\"'re\",' are')                               \n",
        "    df['tweet'] = df['tweet'].str.replace(r'\\\\n', '', regex=True)\n",
        "    df['tweet'] = df['tweet'].apply(lambda x: re.sub(r'\\\\x..','',x))\n",
        "    df['tweet'] = df['tweet'].apply(lambda x: re.sub(r'\\\\u....','',x))\n",
        "    df['tweet'] = df['tweet'].map(lambda x: re.sub(r'\\W+', ' ', x))\n",
        "    df['tweet'] = df['tweet'].map(lambda x: re.sub(r'[0-9]+', '', x))\n",
        "    return df"
      ],
      "execution_count": 5,
      "outputs": []
    },
    {
      "cell_type": "markdown",
      "metadata": {
        "id": "k9ZZUpv5KiY_"
      },
      "source": [
        "# **Remove stopwords**"
      ]
    },
    {
      "cell_type": "code",
      "metadata": {
        "id": "5dR4cGCQGxPl"
      },
      "source": [
        "def remove_stopwords(df):\n",
        "  stop = stopwords.words('english')\n",
        "  df['tweet'] = df['tweet'].apply(lambda x: ' '.join([word for word in x.split() if word not in (stop)]))\n",
        "  return df"
      ],
      "execution_count": 6,
      "outputs": []
    },
    {
      "cell_type": "markdown",
      "metadata": {
        "id": "SyW49TunL_8z"
      },
      "source": [
        "# **Stemming and Lemmatizing**"
      ]
    },
    {
      "cell_type": "code",
      "metadata": {
        "id": "106gEfR2Lo-C"
      },
      "source": [
        "stemmer = SnowballStemmer(\"english\")\n",
        "wordnet_lemmatizer = WordNetLemmatizer()\n",
        "def convert(text):\n",
        "  lemmatized_text = []\n",
        "  for i in text:\n",
        "    lemmatized_text.append(str(wordnet_lemmatizer.lemmatize(i,pos=\"v\")))\n",
        "  return ' '.join(lemmatized_text)\n",
        "\n",
        "def stem_lem(df_column):\n",
        "  unstemmed = df_column.str.split()\n",
        "  stemmed = unstemmed.apply(lambda x: [stemmer.stem(y) for y in x])\n",
        "  lemma = stemmed.apply(lambda x: convert(x)).to_frame()\n",
        "  return lemma\n"
      ],
      "execution_count": 7,
      "outputs": []
    },
    {
      "cell_type": "code",
      "metadata": {
        "id": "0RClhB0OU-Ae"
      },
      "source": [
        "#CLEANING\n",
        "train = cleaning(train)\n",
        "test = cleaning(test)\n",
        "\n",
        "#STOPWORDS\n",
        "train = remove_stopwords(train)\n",
        "test = remove_stopwords(test)\n",
        "\n",
        "#STEMMING AND LEMMATIZING                         #removed stemming and lemmatizing because we had worse scores\n",
        "#train['tweet'] = stem_lem(train['tweet'])\n",
        "#test['tweet'] = stem_lem(test['tweet'])\n"
      ],
      "execution_count": 8,
      "outputs": []
    },
    {
      "cell_type": "code",
      "metadata": {
        "id": "9DwSCW0xQGbz"
      },
      "source": [
        "X_train = train['tweet']\n",
        "Y_train = train['label']\n",
        "X_test = test['tweet']\n",
        "Y_test = test['label']"
      ],
      "execution_count": 9,
      "outputs": []
    },
    {
      "cell_type": "code",
      "metadata": {
        "id": "kf1oriIKRFhk"
      },
      "source": [
        "vectorizer = TfidfVectorizer(ngram_range=(1, 2),min_df=5)\n",
        "#vectorizer = HashingVectorizer(ngram_range=(1, 2))\n",
        "#vectorizer = CountVectorizer(ngram_range=(1, 2))                          \n",
        "\n",
        "tfidf_train = vectorizer.fit_transform(X_train)\n",
        "tfidf_test = vectorizer.transform(X_test)"
      ],
      "execution_count": 10,
      "outputs": []
    },
    {
      "cell_type": "markdown",
      "metadata": {
        "id": "vGYSnr7TRe2X"
      },
      "source": [
        "# **LEARNING CURVE**"
      ]
    },
    {
      "cell_type": "code",
      "metadata": {
        "id": "ladGdNweRsFf",
        "colab": {
          "base_uri": "https://localhost:8080/"
        },
        "outputId": "14803e77-13fb-4cbf-de46-5b8e6e2bf634"
      },
      "source": [
        "train_sizes = np.linspace(100,len(train),20,dtype=int)       #split train data into 20 equal parts (starting with 100)\n",
        "\n",
        "\n",
        "f1_trains = []                                                          #here we will be saving train scores of f1 metric \n",
        "f1_tests = []                                                           #here we will be saving test scores of f1 metric\n",
        "\n",
        "for sizes in train_sizes:\n",
        "  newX = tfidf_train[1:sizes]\n",
        "  newY = Y_train[1:sizes]\n",
        "\n",
        "  #decided to use C=0.5 because train score and test score difference was about 6%(0.8 vs 0.74) meaning both there is no overfitting and we have the best possible test score\n",
        "  RegMax = LogisticRegression(multi_class=\"multinomial\",C=0.5,solver='lbfgs',max_iter=10000).fit(newX,newY)          \n",
        "\n",
        "  predictions = RegMax.predict(newX)\n",
        "  f1 = f1_score(newY,predictions,average='micro')\n",
        "  f1_trains.append(f1)\n",
        "\n",
        "  predictions = RegMax.predict(tfidf_test)\n",
        "  f1 = f1_score(Y_test,predictions,average='micro')\n",
        "  f1_tests.append(f1)\n",
        "\n",
        "print(\"F1 train score after training all data set : \",\"{:.2f}\".format(f1_trains[19]))\n",
        "print(\"F1 test score after training all data set : \",\"{:.2f}\".format(f1_tests[19]))"
      ],
      "execution_count": 33,
      "outputs": [
        {
          "output_type": "stream",
          "name": "stdout",
          "text": [
            "F1 train score after training all data set :  0.80\n",
            "F1 test score after training all data set :  0.74\n"
          ]
        }
      ]
    },
    {
      "cell_type": "code",
      "metadata": {
        "colab": {
          "base_uri": "https://localhost:8080/",
          "height": 279
        },
        "id": "RLDIHzayh06X",
        "outputId": "3696b737-ce89-4478-cb25-a4a053ce6d55"
      },
      "source": [
        "plt.plot(train_sizes, f1_trains, 'ro-',label=\"train-set\")\n",
        "plt.plot(train_sizes, f1_tests, 'bo-',label=\"test-set\")\n",
        "plt.xlabel('trained data')\n",
        "plt.ylabel('f1 score')\n",
        "plt.grid(b=True)\n",
        "plt.legend(loc=\"best\")\n",
        "plt.show()"
      ],
      "execution_count": 34,
      "outputs": [
        {
          "output_type": "display_data",
          "data": {
            "image/png": "[encoded data removed]",
            "text/plain": [
              "<Figure size 432x288 with 1 Axes>"
            ]
          },
          "metadata": {
            "needs_background": "light"
          }
        }
      ]
    },
    {
      "cell_type": "code",
      "metadata": {
        "id": "wn1uMTTFsMnO",
        "colab": {
          "base_uri": "https://localhost:8080/"
        },
        "outputId": "c8a73206-96f7-438b-a24a-bb61c0958eb2"
      },
      "source": [
        "RegMax = LogisticRegression(multi_class=\"multinomial\",C=0.5,solver='lbfgs',max_iter=10000).fit(tfidf_train,Y_train)     \n",
        "\n",
        "predictions = RegMax.predict(tfidf_test)\n",
        "rec = \"{:.2f}\".format(recall_score(Y_test,predictions,average='weighted'))\n",
        "pre = \"{:.2f}\".format(precision_score(Y_test,predictions,average='weighted'))\n",
        "f1 = \"{:.2f}\".format(f1_score(Y_test,predictions,average='weighted'))\n",
        "\n",
        "print(\"Test-set scores : Recall : \",rec, \" precision : \",pre, \" f1 : \", f1)"
      ],
      "execution_count": 35,
      "outputs": [
        {
          "output_type": "stream",
          "name": "stdout",
          "text": [
            "Test-set scores : Recall :  0.74  precision :  0.74  f1 :  0.73\n"
          ]
        }
      ]
    }
  ]
}